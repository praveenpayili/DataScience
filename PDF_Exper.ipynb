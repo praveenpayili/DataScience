{
 "cells": [
  {
   "cell_type": "code",
   "execution_count": 1,
   "metadata": {},
   "outputs": [],
   "source": [
    "import os\n",
    "import pandas as pd\n",
    "import PyPDF2\n",
    "import spacy\n",
    "import textract\n",
    "import en_core_web_sm\n",
    "nlp = en_core_web_sm.load()\n",
    "os.chdir('C:\\\\Users\\\\lingadhar_duggirala\\\\Desktop\\\\Metadata_Validation\\\\Non SEC documents')"
   ]
  },
  {
   "cell_type": "code",
   "execution_count": 2,
   "metadata": {},
   "outputs": [],
   "source": [
    "flname='C:/Users/lingadhar_duggirala/Desktop/Metadata_Validation/FDCA3Cos with AlternateNames.xlsx'\n",
    "comp_master=pd.read_excel(flname)"
   ]
  },
  {
   "cell_type": "code",
   "execution_count": 3,
   "metadata": {},
   "outputs": [],
   "source": [
    "comp_master_new=comp_master[['CompanyId','Company Name','ALTERNATENAME']]"
   ]
  },
  {
   "cell_type": "code",
   "execution_count": 4,
   "metadata": {},
   "outputs": [
    {
     "name": "stderr",
     "output_type": "stream",
     "text": [
      "C:\\Users\\lingadhar_duggirala\\AppData\\Local\\Continuum\\anaconda3\\lib\\site-packages\\ipykernel_launcher.py:1: SettingWithCopyWarning: \n",
      "A value is trying to be set on a copy of a slice from a DataFrame.\n",
      "Try using .loc[row_indexer,col_indexer] = value instead\n",
      "\n",
      "See the caveats in the documentation: http://pandas.pydata.org/pandas-docs/stable/indexing.html#indexing-view-versus-copy\n",
      "  \"\"\"Entry point for launching an IPython kernel.\n",
      "C:\\Users\\lingadhar_duggirala\\AppData\\Local\\Continuum\\anaconda3\\lib\\site-packages\\ipykernel_launcher.py:2: SettingWithCopyWarning: \n",
      "A value is trying to be set on a copy of a slice from a DataFrame.\n",
      "Try using .loc[row_indexer,col_indexer] = value instead\n",
      "\n",
      "See the caveats in the documentation: http://pandas.pydata.org/pandas-docs/stable/indexing.html#indexing-view-versus-copy\n",
      "  \n"
     ]
    }
   ],
   "source": [
    "comp_master_new[\"compnmlower\"]=comp_master_new[\"Company Name\"].str.lower()\n",
    "comp_master_new[\"alternatenamelower\"]=comp_master_new[\"ALTERNATENAME\"].str.lower()"
   ]
  },
  {
   "cell_type": "code",
   "execution_count": 5,
   "metadata": {},
   "outputs": [],
   "source": [
    "comp_master=comp_master_new[['CompanyId','compnmlower','alternatenamelower']]"
   ]
  },
  {
   "cell_type": "code",
   "execution_count": 6,
   "metadata": {},
   "outputs": [],
   "source": [
    "pdfFileObj = open(\"429257488.pdf\",'rb')\n",
    "pdfReader = PyPDF2.PdfFileReader(pdfFileObj)\n",
    "text = \"\"\n",
    "count = 0\n",
    "while count < pdfReader.numPages:\n",
    "    pageObj = pdfReader.getPage(count)\n",
    "    count +=1\n",
    "    text += pageObj.extractText()"
   ]
  },
  {
   "cell_type": "code",
   "execution_count": 7,
   "metadata": {},
   "outputs": [
    {
     "data": {
      "text/plain": [
       "['2018to,',\n",
       " \"department of corporate servicesbse limited,25'n floor\",\n",
       " 'p.j.towers',\n",
       " 'the securities exchange board',\n",
       " 'disclosurerequirements)',\n",
       " 'the board of directors of the company at its meeting',\n",
       " 'the limited review report of the auditors of the company',\n",
       " 'hegdecompliance',\n",
       " 'officerencl',\n",
       " 'estate',\n",
       " 'estats, j.r',\n",
       " 'depreciation &',\n",
       " 'loss(ii)',\n",
       " 'the board of direc{ors of the company',\n",
       " 'defened tax liability',\n",
       " \"limited review'\",\n",
       " 'report',\n",
       " 'heritage corporation ltd.,b.-\"&e',\n",
       " 'j.*in & co.chartered accountantsg-02',\n",
       " 'the board of directorsswastivinayaka',\n",
       " 'jogani industrial estate',\n",
       " 'swastivinayaka aft and heritage corporation limited',\n",
       " \"the company's management\",\n",
       " 'the board of directors',\n",
       " 'the standard on review',\n",
       " 'review of interim financial information performed',\n",
       " 'the independentauditor of the entity',\n",
       " 'the institute of chartered accountants',\n",
       " 'companiesact,2013',\n",
       " 'sanjay raja jain & co.chaftered accountants']"
      ]
     },
     "execution_count": 7,
     "metadata": {},
     "output_type": "execute_result"
    }
   ],
   "source": [
    "txt=nlp(text)\n",
    "orgs=list([(X.text).lower() for X in txt.ents if X.label_=='ORG'])\n",
    "orgs"
   ]
  },
  {
   "cell_type": "code",
   "execution_count": 10,
   "metadata": {},
   "outputs": [],
   "source": [
    "texts = [[word for word in document.lower().split()] for document in orgs]"
   ]
  },
  {
   "cell_type": "code",
   "execution_count": 11,
   "metadata": {},
   "outputs": [],
   "source": [
    "from pprint import pprint "
   ]
  },
  {
   "cell_type": "code",
   "execution_count": 12,
   "metadata": {},
   "outputs": [
    {
     "name": "stdout",
     "output_type": "stream",
     "text": [
      "[['2018to,'],\n",
      " ['department', 'of', 'corporate', 'servicesbse', \"limited,25'n\", 'floor'],\n",
      " ['p.j.towers'],\n",
      " ['the', 'securities', 'exchange', 'board'],\n",
      " ['disclosurerequirements)'],\n",
      " ['the',\n",
      "  'board',\n",
      "  'of',\n",
      "  'directors',\n",
      "  'of',\n",
      "  'the',\n",
      "  'company',\n",
      "  'at',\n",
      "  'its',\n",
      "  'meeting'],\n",
      " ['the',\n",
      "  'limited',\n",
      "  'review',\n",
      "  'report',\n",
      "  'of',\n",
      "  'the',\n",
      "  'auditors',\n",
      "  'of',\n",
      "  'the',\n",
      "  'company'],\n",
      " ['hegdecompliance'],\n",
      " ['officerencl'],\n",
      " ['estate'],\n",
      " ['estats,', 'j.r'],\n",
      " ['depreciation', '&'],\n",
      " ['loss(ii)'],\n",
      " ['the', 'board', 'of', 'direc{ors', 'of', 'the', 'company'],\n",
      " ['defened', 'tax', 'liability'],\n",
      " ['limited', \"review'\"],\n",
      " ['report'],\n",
      " ['heritage', 'corporation', 'ltd.,b.-\"&e'],\n",
      " ['j.*in', '&', 'co.chartered', 'accountantsg-02'],\n",
      " ['the', 'board', 'of', 'directorsswastivinayaka'],\n",
      " ['jogani', 'industrial', 'estate'],\n",
      " ['swastivinayaka', 'aft', 'and', 'heritage', 'corporation', 'limited'],\n",
      " ['the', \"company's\", 'management'],\n",
      " ['the', 'board', 'of', 'directors'],\n",
      " ['the', 'standard', 'on', 'review'],\n",
      " ['review', 'of', 'interim', 'financial', 'information', 'performed'],\n",
      " ['the', 'independentauditor', 'of', 'the', 'entity'],\n",
      " ['the', 'institute', 'of', 'chartered', 'accountants'],\n",
      " ['companiesact,2013'],\n",
      " ['sanjay', 'raja', 'jain', '&', 'co.chaftered', 'accountants']]\n"
     ]
    }
   ],
   "source": [
    "pprint(texts)"
   ]
  },
  {
   "cell_type": "code",
   "execution_count": 14,
   "metadata": {},
   "outputs": [
    {
     "name": "stderr",
     "output_type": "stream",
     "text": [
      "UserWarning: detected Windows; aliasing chunkize to chunkize_serial [utils.py:1212]\n"
     ]
    },
    {
     "name": "stdout",
     "output_type": "stream",
     "text": [
      "Dictionary(65 unique tokens: ['2018to,', 'corporate', 'department', 'floor', \"limited,25'n\"]...)\n"
     ]
    }
   ],
   "source": [
    "from gensim import corpora\n",
    "dictionary = corpora.Dictionary(texts)\n",
    "#dictionary.save('/tmp/deerwester.dict')  # store the dictionary, for future reference\n",
    "print(dictionary)"
   ]
  },
  {
   "cell_type": "code",
   "execution_count": 15,
   "metadata": {},
   "outputs": [
    {
     "name": "stdout",
     "output_type": "stream",
     "text": [
      "{'2018to,': 0, 'corporate': 1, 'department': 2, 'floor': 3, \"limited,25'n\": 4, 'of': 5, 'servicesbse': 6, 'p.j.towers': 7, 'board': 8, 'exchange': 9, 'securities': 10, 'the': 11, 'disclosurerequirements)': 12, 'at': 13, 'company': 14, 'directors': 15, 'its': 16, 'meeting': 17, 'auditors': 18, 'limited': 19, 'report': 20, 'review': 21, 'hegdecompliance': 22, 'officerencl': 23, 'estate': 24, 'estats,': 25, 'j.r': 26, '&': 27, 'depreciation': 28, 'loss(ii)': 29, 'direc{ors': 30, 'defened': 31, 'liability': 32, 'tax': 33, \"review'\": 34, 'corporation': 35, 'heritage': 36, 'ltd.,b.-\"&e': 37, 'accountantsg-02': 38, 'co.chartered': 39, 'j.*in': 40, 'directorsswastivinayaka': 41, 'industrial': 42, 'jogani': 43, 'aft': 44, 'and': 45, 'swastivinayaka': 46, \"company's\": 47, 'management': 48, 'on': 49, 'standard': 50, 'financial': 51, 'information': 52, 'interim': 53, 'performed': 54, 'entity': 55, 'independentauditor': 56, 'accountants': 57, 'chartered': 58, 'institute': 59, 'companiesact,2013': 60, 'co.chaftered': 61, 'jain': 62, 'raja': 63, 'sanjay': 64}\n"
     ]
    }
   ],
   "source": [
    "print(dictionary.token2id)"
   ]
  },
  {
   "cell_type": "code",
   "execution_count": 20,
   "metadata": {},
   "outputs": [
    {
     "data": {
      "text/html": [
       "<div>\n",
       "<style scoped>\n",
       "    .dataframe tbody tr th:only-of-type {\n",
       "        vertical-align: middle;\n",
       "    }\n",
       "\n",
       "    .dataframe tbody tr th {\n",
       "        vertical-align: top;\n",
       "    }\n",
       "\n",
       "    .dataframe thead th {\n",
       "        text-align: right;\n",
       "    }\n",
       "</style>\n",
       "<table border=\"1\" class=\"dataframe\">\n",
       "  <thead>\n",
       "    <tr style=\"text-align: right;\">\n",
       "      <th></th>\n",
       "      <th>CompanyId</th>\n",
       "      <th>compnmlower</th>\n",
       "      <th>alternatenamelower</th>\n",
       "    </tr>\n",
       "  </thead>\n",
       "  <tbody>\n",
       "    <tr>\n",
       "      <th>162929</th>\n",
       "      <td>20361021</td>\n",
       "      <td>swasti vinayaka synthetics limited</td>\n",
       "      <td>swasti vinayaka synthetics</td>\n",
       "    </tr>\n",
       "    <tr>\n",
       "      <th>162930</th>\n",
       "      <td>20361021</td>\n",
       "      <td>swasti vinayaka synthetics limited</td>\n",
       "      <td>swasti vinayaka synthetics ltd</td>\n",
       "    </tr>\n",
       "    <tr>\n",
       "      <th>162931</th>\n",
       "      <td>20361021</td>\n",
       "      <td>swasti vinayaka synthetics limited</td>\n",
       "      <td>vinayaka synthetics ltd</td>\n",
       "    </tr>\n",
       "    <tr>\n",
       "      <th>175236</th>\n",
       "      <td>20988972</td>\n",
       "      <td>swastika investmart limited</td>\n",
       "      <td>swastika fin-lease limited</td>\n",
       "    </tr>\n",
       "    <tr>\n",
       "      <th>175237</th>\n",
       "      <td>20988972</td>\n",
       "      <td>swastika investmart limited</td>\n",
       "      <td>swastika investmart ltd.</td>\n",
       "    </tr>\n",
       "    <tr>\n",
       "      <th>175238</th>\n",
       "      <td>20988972</td>\n",
       "      <td>swastika investmart limited</td>\n",
       "      <td>swastika investment ltd</td>\n",
       "    </tr>\n",
       "    <tr>\n",
       "      <th>175239</th>\n",
       "      <td>20988972</td>\n",
       "      <td>swastika investmart limited</td>\n",
       "      <td>swastika ltd.</td>\n",
       "    </tr>\n",
       "    <tr>\n",
       "      <th>191965</th>\n",
       "      <td>25106620</td>\n",
       "      <td>swasti vinayaka art and heritage corporation l...</td>\n",
       "      <td>flamour finance &amp; securities ltd</td>\n",
       "    </tr>\n",
       "    <tr>\n",
       "      <th>191966</th>\n",
       "      <td>25106620</td>\n",
       "      <td>swasti vinayaka art and heritage corporation l...</td>\n",
       "      <td>swasti vinayaka art and heritage corporation ltd</td>\n",
       "    </tr>\n",
       "    <tr>\n",
       "      <th>191967</th>\n",
       "      <td>25106620</td>\n",
       "      <td>swasti vinayaka art and heritage corporation l...</td>\n",
       "      <td>swasti vinayaka finvest corporation ltd</td>\n",
       "    </tr>\n",
       "    <tr>\n",
       "      <th>191968</th>\n",
       "      <td>25106620</td>\n",
       "      <td>swasti vinayaka art and heritage corporation l...</td>\n",
       "      <td>swasti vinayaka gems corporation limited</td>\n",
       "    </tr>\n",
       "    <tr>\n",
       "      <th>191969</th>\n",
       "      <td>25106620</td>\n",
       "      <td>swasti vinayaka art and heritage corporation l...</td>\n",
       "      <td>swasti vinayaka gems corporation ltd</td>\n",
       "    </tr>\n",
       "    <tr>\n",
       "      <th>277567</th>\n",
       "      <td>142708739</td>\n",
       "      <td>swastik plywood limited</td>\n",
       "      <td>swastik plywood manufacturing company limited</td>\n",
       "    </tr>\n",
       "  </tbody>\n",
       "</table>\n",
       "</div>"
      ],
      "text/plain": [
       "        CompanyId                                        compnmlower  \\\n",
       "162929   20361021                 swasti vinayaka synthetics limited   \n",
       "162930   20361021                 swasti vinayaka synthetics limited   \n",
       "162931   20361021                 swasti vinayaka synthetics limited   \n",
       "175236   20988972                        swastika investmart limited   \n",
       "175237   20988972                        swastika investmart limited   \n",
       "175238   20988972                        swastika investmart limited   \n",
       "175239   20988972                        swastika investmart limited   \n",
       "191965   25106620  swasti vinayaka art and heritage corporation l...   \n",
       "191966   25106620  swasti vinayaka art and heritage corporation l...   \n",
       "191967   25106620  swasti vinayaka art and heritage corporation l...   \n",
       "191968   25106620  swasti vinayaka art and heritage corporation l...   \n",
       "191969   25106620  swasti vinayaka art and heritage corporation l...   \n",
       "277567  142708739                            swastik plywood limited   \n",
       "\n",
       "                                       alternatenamelower  \n",
       "162929                        swasti vinayaka synthetics   \n",
       "162930                    swasti vinayaka synthetics ltd   \n",
       "162931                           vinayaka synthetics ltd   \n",
       "175236                        swastika fin-lease limited   \n",
       "175237                          swastika investmart ltd.   \n",
       "175238                           swastika investment ltd   \n",
       "175239                                     swastika ltd.   \n",
       "191965                  flamour finance & securities ltd   \n",
       "191966  swasti vinayaka art and heritage corporation ltd   \n",
       "191967           swasti vinayaka finvest corporation ltd   \n",
       "191968          swasti vinayaka gems corporation limited   \n",
       "191969              swasti vinayaka gems corporation ltd   \n",
       "277567     swastik plywood manufacturing company limited   "
      ]
     },
     "execution_count": 20,
     "metadata": {},
     "output_type": "execute_result"
    }
   ],
   "source": [
    "comp_master[comp_master[\"compnmlower\"].str.contains(\"swasti\",na=False)]"
   ]
  },
  {
   "cell_type": "code",
   "execution_count": 23,
   "metadata": {},
   "outputs": [
    {
     "name": "stdout",
     "output_type": "stream",
     "text": [
      "[(19, 1), (35, 1), (36, 1), (45, 1)]\n"
     ]
    }
   ],
   "source": [
    "new=\"swasti vinayaka art and heritage corporation limited\"\n",
    "new_vec = dictionary.doc2bow(new.lower().split())\n",
    "print(new_vec)"
   ]
  },
  {
   "cell_type": "code",
   "execution_count": 29,
   "metadata": {},
   "outputs": [
    {
     "name": "stdout",
     "output_type": "stream",
     "text": [
      "after\n"
     ]
    }
   ],
   "source": [
    "from autocorrect import spell\n",
    "print(spell('aft'))"
   ]
  },
  {
   "cell_type": "code",
   "execution_count": 69,
   "metadata": {},
   "outputs": [],
   "source": [
    "compnames=list(set(comp_master[comp_master.compnmlower.notnull()][\"compnmlower\"]))"
   ]
  },
  {
   "cell_type": "code",
   "execution_count": 70,
   "metadata": {},
   "outputs": [
    {
     "data": {
      "text/plain": [
       "list"
      ]
     },
     "execution_count": 70,
     "metadata": {},
     "output_type": "execute_result"
    }
   ],
   "source": [
    "type(compnames)"
   ]
  },
  {
   "cell_type": "code",
   "execution_count": 72,
   "metadata": {},
   "outputs": [],
   "source": [
    "# imports needed and set up logging\n",
    "import gzip\n",
    "import gensim "
   ]
  },
  {
   "cell_type": "code",
   "execution_count": 73,
   "metadata": {},
   "outputs": [
    {
     "name": "stderr",
     "output_type": "stream",
     "text": [
      "2019-01-04 16:06:25,754 : INFO : collecting all words and their counts\n",
      "2019-01-04 16:06:25,768 : WARNING : Each 'sentences' item should be a list of words (usually unicode strings). First item here is instead plain <class 'str'>.\n",
      "2019-01-04 16:06:25,776 : INFO : PROGRESS: at sentence #0, processed 0 words, keeping 0 word types\n",
      "2019-01-04 16:06:25,850 : INFO : PROGRESS: at sentence #10000, processed 271935 words, keeping 81 word types\n",
      "2019-01-04 16:06:25,896 : INFO : PROGRESS: at sentence #20000, processed 542602 words, keeping 89 word types\n",
      "2019-01-04 16:06:25,940 : INFO : PROGRESS: at sentence #30000, processed 812961 words, keeping 91 word types\n",
      "2019-01-04 16:06:25,979 : INFO : PROGRESS: at sentence #40000, processed 1083207 words, keeping 96 word types\n",
      "2019-01-04 16:06:26,018 : INFO : PROGRESS: at sentence #50000, processed 1353475 words, keeping 98 word types\n",
      "2019-01-04 16:06:26,055 : INFO : PROGRESS: at sentence #60000, processed 1625076 words, keeping 98 word types\n",
      "2019-01-04 16:06:26,095 : INFO : PROGRESS: at sentence #70000, processed 1895965 words, keeping 100 word types\n",
      "2019-01-04 16:06:26,133 : INFO : PROGRESS: at sentence #80000, processed 2164958 words, keeping 101 word types\n",
      "2019-01-04 16:06:26,173 : INFO : PROGRESS: at sentence #90000, processed 2437143 words, keeping 101 word types\n",
      "2019-01-04 16:06:26,213 : INFO : PROGRESS: at sentence #100000, processed 2706581 words, keeping 102 word types\n",
      "2019-01-04 16:06:26,251 : INFO : PROGRESS: at sentence #110000, processed 2977529 words, keeping 102 word types\n",
      "2019-01-04 16:06:26,290 : INFO : PROGRESS: at sentence #120000, processed 3247696 words, keeping 103 word types\n",
      "2019-01-04 16:06:26,330 : INFO : PROGRESS: at sentence #130000, processed 3518717 words, keeping 103 word types\n",
      "2019-01-04 16:06:26,335 : INFO : collected 103 word types from a corpus of 3537493 raw words and 130683 sentences\n",
      "2019-01-04 16:06:26,339 : INFO : Loading a fresh vocabulary\n",
      "2019-01-04 16:06:26,369 : INFO : effective_min_count=2 retains 92 unique words (89% of original 103, drops 11)\n",
      "2019-01-04 16:06:26,370 : INFO : effective_min_count=2 leaves 3537482 word corpus (99% of original 3537493, drops 11)\n",
      "2019-01-04 16:06:26,377 : INFO : deleting the raw counts dictionary of 103 items\n",
      "2019-01-04 16:06:26,381 : INFO : sample=0.001 downsamples 26 most-common words\n",
      "2019-01-04 16:06:26,388 : INFO : downsampling leaves estimated 668000 word corpus (18.9% of prior 3537482)\n",
      "2019-01-04 16:06:26,393 : INFO : estimated required memory for 92 words and 0 dimensions: 46000 bytes\n",
      "2019-01-04 16:06:26,397 : INFO : resetting layer weights\n",
      "2019-01-04 16:06:26,402 : INFO : training model with 10 workers on 92 vocabulary and 0 features, using sg=0 hs=0 sample=0.001 negative=5 window=10\n",
      "2019-01-04 16:06:27,189 : INFO : worker thread finished; awaiting finish of 9 more threads\n",
      "2019-01-04 16:06:27,200 : INFO : worker thread finished; awaiting finish of 8 more threads\n",
      "2019-01-04 16:06:27,204 : INFO : worker thread finished; awaiting finish of 7 more threads\n",
      "2019-01-04 16:06:27,206 : INFO : worker thread finished; awaiting finish of 6 more threads\n",
      "2019-01-04 16:06:27,208 : INFO : worker thread finished; awaiting finish of 5 more threads\n",
      "2019-01-04 16:06:27,211 : INFO : worker thread finished; awaiting finish of 4 more threads\n",
      "2019-01-04 16:06:27,220 : INFO : worker thread finished; awaiting finish of 3 more threads\n",
      "2019-01-04 16:06:27,222 : INFO : worker thread finished; awaiting finish of 2 more threads\n",
      "2019-01-04 16:06:27,225 : INFO : worker thread finished; awaiting finish of 1 more threads\n",
      "2019-01-04 16:06:27,227 : INFO : worker thread finished; awaiting finish of 0 more threads\n",
      "2019-01-04 16:06:27,229 : INFO : EPOCH - 1 : training on 3537493 raw words (668486 effective words) took 0.8s, 825854 effective words/s\n",
      "2019-01-04 16:06:28,056 : INFO : worker thread finished; awaiting finish of 9 more threads\n",
      "2019-01-04 16:06:28,065 : INFO : worker thread finished; awaiting finish of 8 more threads\n",
      "2019-01-04 16:06:28,072 : INFO : worker thread finished; awaiting finish of 7 more threads\n",
      "2019-01-04 16:06:28,079 : INFO : worker thread finished; awaiting finish of 6 more threads\n",
      "2019-01-04 16:06:28,086 : INFO : worker thread finished; awaiting finish of 5 more threads\n",
      "2019-01-04 16:06:28,089 : INFO : worker thread finished; awaiting finish of 4 more threads\n",
      "2019-01-04 16:06:28,091 : INFO : worker thread finished; awaiting finish of 3 more threads\n",
      "2019-01-04 16:06:28,095 : INFO : worker thread finished; awaiting finish of 2 more threads\n",
      "2019-01-04 16:06:28,098 : INFO : worker thread finished; awaiting finish of 1 more threads\n",
      "2019-01-04 16:06:28,101 : INFO : worker thread finished; awaiting finish of 0 more threads\n",
      "2019-01-04 16:06:28,103 : INFO : EPOCH - 2 : training on 3537493 raw words (668657 effective words) took 0.9s, 780556 effective words/s\n",
      "2019-01-04 16:06:28,889 : INFO : worker thread finished; awaiting finish of 9 more threads\n",
      "2019-01-04 16:06:28,897 : INFO : worker thread finished; awaiting finish of 8 more threads\n",
      "2019-01-04 16:06:28,901 : INFO : worker thread finished; awaiting finish of 7 more threads\n",
      "2019-01-04 16:06:28,904 : INFO : worker thread finished; awaiting finish of 6 more threads\n",
      "2019-01-04 16:06:28,906 : INFO : worker thread finished; awaiting finish of 5 more threads\n",
      "2019-01-04 16:06:28,913 : INFO : worker thread finished; awaiting finish of 4 more threads\n",
      "2019-01-04 16:06:28,918 : INFO : worker thread finished; awaiting finish of 3 more threads\n",
      "2019-01-04 16:06:28,922 : INFO : worker thread finished; awaiting finish of 2 more threads\n",
      "2019-01-04 16:06:28,926 : INFO : worker thread finished; awaiting finish of 1 more threads\n",
      "2019-01-04 16:06:28,931 : INFO : worker thread finished; awaiting finish of 0 more threads\n",
      "2019-01-04 16:06:28,936 : INFO : EPOCH - 3 : training on 3537493 raw words (667523 effective words) took 0.8s, 837204 effective words/s\n",
      "2019-01-04 16:06:29,691 : INFO : worker thread finished; awaiting finish of 9 more threads\n",
      "2019-01-04 16:06:29,707 : INFO : worker thread finished; awaiting finish of 8 more threads\n",
      "2019-01-04 16:06:29,713 : INFO : worker thread finished; awaiting finish of 7 more threads\n",
      "2019-01-04 16:06:29,719 : INFO : worker thread finished; awaiting finish of 6 more threads\n",
      "2019-01-04 16:06:29,724 : INFO : worker thread finished; awaiting finish of 5 more threads\n",
      "2019-01-04 16:06:29,729 : INFO : worker thread finished; awaiting finish of 4 more threads\n",
      "2019-01-04 16:06:29,732 : INFO : worker thread finished; awaiting finish of 3 more threads\n",
      "2019-01-04 16:06:29,737 : INFO : worker thread finished; awaiting finish of 2 more threads\n",
      "2019-01-04 16:06:29,742 : INFO : worker thread finished; awaiting finish of 1 more threads\n",
      "2019-01-04 16:06:29,744 : INFO : worker thread finished; awaiting finish of 0 more threads\n",
      "2019-01-04 16:06:29,746 : INFO : EPOCH - 4 : training on 3537493 raw words (669368 effective words) took 0.8s, 848494 effective words/s\n",
      "2019-01-04 16:06:30,522 : INFO : worker thread finished; awaiting finish of 9 more threads\n",
      "2019-01-04 16:06:30,534 : INFO : worker thread finished; awaiting finish of 8 more threads\n",
      "2019-01-04 16:06:30,544 : INFO : worker thread finished; awaiting finish of 7 more threads\n",
      "2019-01-04 16:06:30,549 : INFO : worker thread finished; awaiting finish of 6 more threads\n",
      "2019-01-04 16:06:30,553 : INFO : worker thread finished; awaiting finish of 5 more threads\n",
      "2019-01-04 16:06:30,558 : INFO : worker thread finished; awaiting finish of 4 more threads\n",
      "2019-01-04 16:06:30,562 : INFO : worker thread finished; awaiting finish of 3 more threads\n",
      "2019-01-04 16:06:30,566 : INFO : worker thread finished; awaiting finish of 2 more threads\n",
      "2019-01-04 16:06:30,570 : INFO : worker thread finished; awaiting finish of 1 more threads\n",
      "2019-01-04 16:06:30,574 : INFO : worker thread finished; awaiting finish of 0 more threads\n",
      "2019-01-04 16:06:30,578 : INFO : EPOCH - 5 : training on 3537493 raw words (669145 effective words) took 0.8s, 825069 effective words/s\n",
      "2019-01-04 16:06:30,585 : INFO : training on a 17687465 raw words (3343179 effective words) took 4.2s, 799985 effective words/s\n"
     ]
    }
   ],
   "source": [
    "model = gensim.models.Word2Vec (compnames, size=0, window=10, min_count=2, workers=10)"
   ]
  },
  {
   "cell_type": "code",
   "execution_count": 83,
   "metadata": {},
   "outputs": [
    {
     "name": "stderr",
     "output_type": "stream",
     "text": [
      "2019-01-04 16:13:31,706 : WARNING : Effective 'alpha' higher than previous training cycles\n",
      "2019-01-04 16:13:31,719 : INFO : training model with 10 workers on 92 vocabulary and 0 features, using sg=0 hs=0 sample=0.001 negative=5 window=10\n",
      "2019-01-04 16:13:32,596 : INFO : worker thread finished; awaiting finish of 9 more threads\n",
      "2019-01-04 16:13:32,602 : INFO : worker thread finished; awaiting finish of 8 more threads\n",
      "2019-01-04 16:13:32,609 : INFO : worker thread finished; awaiting finish of 7 more threads\n",
      "2019-01-04 16:13:32,611 : INFO : worker thread finished; awaiting finish of 6 more threads\n",
      "2019-01-04 16:13:32,614 : INFO : worker thread finished; awaiting finish of 5 more threads\n",
      "2019-01-04 16:13:32,616 : INFO : worker thread finished; awaiting finish of 4 more threads\n",
      "2019-01-04 16:13:32,619 : INFO : worker thread finished; awaiting finish of 3 more threads\n",
      "2019-01-04 16:13:32,621 : INFO : worker thread finished; awaiting finish of 2 more threads\n",
      "2019-01-04 16:13:32,624 : INFO : worker thread finished; awaiting finish of 1 more threads\n",
      "2019-01-04 16:13:32,629 : INFO : worker thread finished; awaiting finish of 0 more threads\n",
      "2019-01-04 16:13:32,631 : INFO : EPOCH - 1 : training on 3537493 raw words (669303 effective words) took 0.8s, 795259 effective words/s\n",
      "2019-01-04 16:13:33,433 : INFO : worker thread finished; awaiting finish of 9 more threads\n",
      "2019-01-04 16:13:33,446 : INFO : worker thread finished; awaiting finish of 8 more threads\n",
      "2019-01-04 16:13:33,449 : INFO : worker thread finished; awaiting finish of 7 more threads\n",
      "2019-01-04 16:13:33,460 : INFO : worker thread finished; awaiting finish of 6 more threads\n",
      "2019-01-04 16:13:33,467 : INFO : worker thread finished; awaiting finish of 5 more threads\n",
      "2019-01-04 16:13:33,471 : INFO : worker thread finished; awaiting finish of 4 more threads\n",
      "2019-01-04 16:13:33,478 : INFO : worker thread finished; awaiting finish of 3 more threads\n",
      "2019-01-04 16:13:33,484 : INFO : worker thread finished; awaiting finish of 2 more threads\n",
      "2019-01-04 16:13:33,487 : INFO : worker thread finished; awaiting finish of 1 more threads\n",
      "2019-01-04 16:13:33,490 : INFO : worker thread finished; awaiting finish of 0 more threads\n",
      "2019-01-04 16:13:33,492 : INFO : EPOCH - 2 : training on 3537493 raw words (668679 effective words) took 0.8s, 791399 effective words/s\n",
      "2019-01-04 16:13:34,271 : INFO : worker thread finished; awaiting finish of 9 more threads\n",
      "2019-01-04 16:13:34,285 : INFO : worker thread finished; awaiting finish of 8 more threads\n",
      "2019-01-04 16:13:34,289 : INFO : worker thread finished; awaiting finish of 7 more threads\n",
      "2019-01-04 16:13:34,293 : INFO : worker thread finished; awaiting finish of 6 more threads\n",
      "2019-01-04 16:13:34,299 : INFO : worker thread finished; awaiting finish of 5 more threads\n",
      "2019-01-04 16:13:34,302 : INFO : worker thread finished; awaiting finish of 4 more threads\n",
      "2019-01-04 16:13:34,306 : INFO : worker thread finished; awaiting finish of 3 more threads\n",
      "2019-01-04 16:13:34,311 : INFO : worker thread finished; awaiting finish of 2 more threads\n",
      "2019-01-04 16:13:34,316 : INFO : worker thread finished; awaiting finish of 1 more threads\n",
      "2019-01-04 16:13:34,319 : INFO : worker thread finished; awaiting finish of 0 more threads\n",
      "2019-01-04 16:13:34,321 : INFO : EPOCH - 3 : training on 3537493 raw words (668058 effective words) took 0.8s, 829844 effective words/s\n",
      "2019-01-04 16:13:35,099 : INFO : worker thread finished; awaiting finish of 9 more threads\n",
      "2019-01-04 16:13:35,111 : INFO : worker thread finished; awaiting finish of 8 more threads\n",
      "2019-01-04 16:13:35,115 : INFO : worker thread finished; awaiting finish of 7 more threads\n",
      "2019-01-04 16:13:35,123 : INFO : worker thread finished; awaiting finish of 6 more threads\n",
      "2019-01-04 16:13:35,133 : INFO : worker thread finished; awaiting finish of 5 more threads\n",
      "2019-01-04 16:13:35,135 : INFO : worker thread finished; awaiting finish of 4 more threads\n",
      "2019-01-04 16:13:35,137 : INFO : worker thread finished; awaiting finish of 3 more threads\n",
      "2019-01-04 16:13:35,139 : INFO : worker thread finished; awaiting finish of 2 more threads\n",
      "2019-01-04 16:13:35,152 : INFO : worker thread finished; awaiting finish of 1 more threads\n",
      "2019-01-04 16:13:35,157 : INFO : worker thread finished; awaiting finish of 0 more threads\n",
      "2019-01-04 16:13:35,163 : INFO : EPOCH - 4 : training on 3537493 raw words (667804 effective words) took 0.8s, 816988 effective words/s\n",
      "2019-01-04 16:13:35,955 : INFO : worker thread finished; awaiting finish of 9 more threads\n",
      "2019-01-04 16:13:35,966 : INFO : worker thread finished; awaiting finish of 8 more threads\n",
      "2019-01-04 16:13:35,972 : INFO : worker thread finished; awaiting finish of 7 more threads\n",
      "2019-01-04 16:13:35,977 : INFO : worker thread finished; awaiting finish of 6 more threads\n",
      "2019-01-04 16:13:35,979 : INFO : worker thread finished; awaiting finish of 5 more threads\n",
      "2019-01-04 16:13:35,981 : INFO : worker thread finished; awaiting finish of 4 more threads\n",
      "2019-01-04 16:13:35,983 : INFO : worker thread finished; awaiting finish of 3 more threads\n",
      "2019-01-04 16:13:35,985 : INFO : worker thread finished; awaiting finish of 2 more threads\n",
      "2019-01-04 16:13:35,987 : INFO : worker thread finished; awaiting finish of 1 more threads\n",
      "2019-01-04 16:13:35,989 : INFO : worker thread finished; awaiting finish of 0 more threads\n",
      "2019-01-04 16:13:35,991 : INFO : EPOCH - 5 : training on 3537493 raw words (667744 effective words) took 0.8s, 822513 effective words/s\n",
      "2019-01-04 16:13:36,815 : INFO : worker thread finished; awaiting finish of 9 more threads\n",
      "2019-01-04 16:13:36,828 : INFO : worker thread finished; awaiting finish of 8 more threads\n",
      "2019-01-04 16:13:36,832 : INFO : worker thread finished; awaiting finish of 7 more threads\n",
      "2019-01-04 16:13:36,836 : INFO : worker thread finished; awaiting finish of 6 more threads\n",
      "2019-01-04 16:13:36,840 : INFO : worker thread finished; awaiting finish of 5 more threads\n",
      "2019-01-04 16:13:36,844 : INFO : worker thread finished; awaiting finish of 4 more threads\n",
      "2019-01-04 16:13:36,849 : INFO : worker thread finished; awaiting finish of 3 more threads\n",
      "2019-01-04 16:13:36,855 : INFO : worker thread finished; awaiting finish of 2 more threads\n",
      "2019-01-04 16:13:36,860 : INFO : worker thread finished; awaiting finish of 1 more threads\n",
      "2019-01-04 16:13:36,865 : INFO : worker thread finished; awaiting finish of 0 more threads\n",
      "2019-01-04 16:13:36,870 : INFO : EPOCH - 6 : training on 3537493 raw words (668949 effective words) took 0.8s, 794862 effective words/s\n",
      "2019-01-04 16:13:37,638 : INFO : worker thread finished; awaiting finish of 9 more threads\n",
      "2019-01-04 16:13:37,650 : INFO : worker thread finished; awaiting finish of 8 more threads\n",
      "2019-01-04 16:13:37,653 : INFO : worker thread finished; awaiting finish of 7 more threads\n",
      "2019-01-04 16:13:37,657 : INFO : worker thread finished; awaiting finish of 6 more threads\n",
      "2019-01-04 16:13:37,663 : INFO : worker thread finished; awaiting finish of 5 more threads\n",
      "2019-01-04 16:13:37,668 : INFO : worker thread finished; awaiting finish of 4 more threads\n",
      "2019-01-04 16:13:37,673 : INFO : worker thread finished; awaiting finish of 3 more threads\n",
      "2019-01-04 16:13:37,678 : INFO : worker thread finished; awaiting finish of 2 more threads\n",
      "2019-01-04 16:13:37,683 : INFO : worker thread finished; awaiting finish of 1 more threads\n",
      "2019-01-04 16:13:37,689 : INFO : worker thread finished; awaiting finish of 0 more threads\n",
      "2019-01-04 16:13:37,693 : INFO : EPOCH - 7 : training on 3537493 raw words (667231 effective words) took 0.8s, 832975 effective words/s\n",
      "2019-01-04 16:13:38,531 : INFO : worker thread finished; awaiting finish of 9 more threads\n",
      "2019-01-04 16:13:38,541 : INFO : worker thread finished; awaiting finish of 8 more threads\n",
      "2019-01-04 16:13:38,544 : INFO : worker thread finished; awaiting finish of 7 more threads\n",
      "2019-01-04 16:13:38,547 : INFO : worker thread finished; awaiting finish of 6 more threads\n",
      "2019-01-04 16:13:38,549 : INFO : worker thread finished; awaiting finish of 5 more threads\n",
      "2019-01-04 16:13:38,551 : INFO : worker thread finished; awaiting finish of 4 more threads\n"
     ]
    },
    {
     "name": "stderr",
     "output_type": "stream",
     "text": [
      "2019-01-04 16:13:38,562 : INFO : worker thread finished; awaiting finish of 3 more threads\n",
      "2019-01-04 16:13:38,566 : INFO : worker thread finished; awaiting finish of 2 more threads\n",
      "2019-01-04 16:13:38,570 : INFO : worker thread finished; awaiting finish of 1 more threads\n",
      "2019-01-04 16:13:38,575 : INFO : worker thread finished; awaiting finish of 0 more threads\n",
      "2019-01-04 16:13:38,582 : INFO : EPOCH - 8 : training on 3537493 raw words (668740 effective words) took 0.9s, 766027 effective words/s\n",
      "2019-01-04 16:13:39,425 : INFO : worker thread finished; awaiting finish of 9 more threads\n",
      "2019-01-04 16:13:39,437 : INFO : worker thread finished; awaiting finish of 8 more threads\n",
      "2019-01-04 16:13:39,441 : INFO : worker thread finished; awaiting finish of 7 more threads\n",
      "2019-01-04 16:13:39,443 : INFO : worker thread finished; awaiting finish of 6 more threads\n",
      "2019-01-04 16:13:39,446 : INFO : worker thread finished; awaiting finish of 5 more threads\n",
      "2019-01-04 16:13:39,450 : INFO : worker thread finished; awaiting finish of 4 more threads\n",
      "2019-01-04 16:13:39,461 : INFO : worker thread finished; awaiting finish of 3 more threads\n",
      "2019-01-04 16:13:39,465 : INFO : worker thread finished; awaiting finish of 2 more threads\n",
      "2019-01-04 16:13:39,467 : INFO : worker thread finished; awaiting finish of 1 more threads\n",
      "2019-01-04 16:13:39,475 : INFO : worker thread finished; awaiting finish of 0 more threads\n",
      "2019-01-04 16:13:39,481 : INFO : EPOCH - 9 : training on 3537493 raw words (668572 effective words) took 0.9s, 760341 effective words/s\n",
      "2019-01-04 16:13:40,300 : INFO : worker thread finished; awaiting finish of 9 more threads\n",
      "2019-01-04 16:13:40,312 : INFO : worker thread finished; awaiting finish of 8 more threads\n",
      "2019-01-04 16:13:40,316 : INFO : worker thread finished; awaiting finish of 7 more threads\n",
      "2019-01-04 16:13:40,318 : INFO : worker thread finished; awaiting finish of 6 more threads\n",
      "2019-01-04 16:13:40,320 : INFO : worker thread finished; awaiting finish of 5 more threads\n",
      "2019-01-04 16:13:40,322 : INFO : worker thread finished; awaiting finish of 4 more threads\n",
      "2019-01-04 16:13:40,325 : INFO : worker thread finished; awaiting finish of 3 more threads\n",
      "2019-01-04 16:13:40,326 : INFO : worker thread finished; awaiting finish of 2 more threads\n",
      "2019-01-04 16:13:40,328 : INFO : worker thread finished; awaiting finish of 1 more threads\n",
      "2019-01-04 16:13:40,330 : INFO : worker thread finished; awaiting finish of 0 more threads\n",
      "2019-01-04 16:13:40,337 : INFO : EPOCH - 10 : training on 3537493 raw words (668516 effective words) took 0.8s, 795495 effective words/s\n",
      "2019-01-04 16:13:40,343 : INFO : training on a 35374930 raw words (6683596 effective words) took 8.6s, 776302 effective words/s\n"
     ]
    },
    {
     "data": {
      "text/plain": [
       "(6683596, 35374930)"
      ]
     },
     "execution_count": 83,
     "metadata": {},
     "output_type": "execute_result"
    }
   ],
   "source": [
    "model.train(compnames,total_examples=len(compnames),epochs=10)"
   ]
  },
  {
   "cell_type": "code",
   "execution_count": 91,
   "metadata": {},
   "outputs": [
    {
     "name": "stderr",
     "output_type": "stream",
     "text": [
      "DeprecationWarning: Call to deprecated `wv` (Attribute will be removed in 4.0.0, use self instead). [ipykernel_launcher.py:1]\n"
     ]
    },
    {
     "ename": "TypeError",
     "evalue": "'Word2VecKeyedVectors' object is not callable",
     "output_type": "error",
     "traceback": [
      "\u001b[1;31m---------------------------------------------------------------------------\u001b[0m",
      "\u001b[1;31mTypeError\u001b[0m                                 Traceback (most recent call last)",
      "\u001b[1;32m<ipython-input-91-07c19cfe603e>\u001b[0m in \u001b[0;36m<module>\u001b[1;34m()\u001b[0m\n\u001b[1;32m----> 1\u001b[1;33m \u001b[0mmodel\u001b[0m\u001b[1;33m.\u001b[0m\u001b[0mwv\u001b[0m\u001b[1;33m.\u001b[0m\u001b[0mwv\u001b[0m\u001b[1;33m(\u001b[0m\u001b[1;33m)\u001b[0m\u001b[1;33m\u001b[0m\u001b[0m\n\u001b[0m",
      "\u001b[1;31mTypeError\u001b[0m: 'Word2VecKeyedVectors' object is not callable"
     ]
    }
   ],
   "source": []
  },
  {
   "cell_type": "code",
   "execution_count": 92,
   "metadata": {},
   "outputs": [],
   "source": [
    "from difflib import SequenceMatcher"
   ]
  },
  {
   "cell_type": "code",
   "execution_count": 93,
   "metadata": {},
   "outputs": [],
   "source": [
    "def similar(a, b):\n",
    "    return SequenceMatcher(None, a, b).ratio()"
   ]
  },
  {
   "cell_type": "code",
   "execution_count": 106,
   "metadata": {},
   "outputs": [
    {
     "data": {
      "text/plain": [
       "0.7288135593220338"
      ]
     },
     "execution_count": 106,
     "metadata": {},
     "output_type": "execute_result"
    }
   ],
   "source": [
    "similar(\"swasti vinayaka art and heritage corporation PLC\",\"swastivinayaka aft and heritage corporation public corporation limited\")"
   ]
  },
  {
   "cell_type": "code",
   "execution_count": null,
   "metadata": {},
   "outputs": [],
   "source": []
  }
 ],
 "metadata": {
  "kernelspec": {
   "display_name": "Python 3",
   "language": "python",
   "name": "python3"
  },
  "language_info": {
   "codemirror_mode": {
    "name": "ipython",
    "version": 3
   },
   "file_extension": ".py",
   "mimetype": "text/x-python",
   "name": "python",
   "nbconvert_exporter": "python",
   "pygments_lexer": "ipython3",
   "version": "3.7.0"
  }
 },
 "nbformat": 4,
 "nbformat_minor": 2
}
